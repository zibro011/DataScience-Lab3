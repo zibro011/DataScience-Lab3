{
  "nbformat": 4,
  "nbformat_minor": 0,
  "metadata": {
    "colab": {
      "name": "ZibrowskiLab3.ipynb",
      "provenance": [],
      "collapsed_sections": [],
      "include_colab_link": true
    },
    "kernelspec": {
      "name": "python3",
      "display_name": "Python 3"
    },
    "language_info": {
      "name": "python"
    }
  },
  "cells": [
    {
      "cell_type": "markdown",
      "metadata": {
        "id": "view-in-github",
        "colab_type": "text"
      },
      "source": [
        "<a href=\"https://colab.research.google.com/github/zibro011/DataScience-Lab3/blob/main/ZibrowskiLab3.ipynb\" target=\"_parent\"><img src=\"https://colab.research.google.com/assets/colab-badge.svg\" alt=\"Open In Colab\"/></a>"
      ]
    },
    {
      "cell_type": "markdown",
      "metadata": {
        "id": "-Ks1wIipjeFV"
      },
      "source": [
        "**INET 4061 Lab 3** <br>\n",
        "**Adelaide Zibrowski** <br>\n",
        "**September 26, 2021**\n"
      ]
    },
    {
      "cell_type": "markdown",
      "metadata": {
        "id": "-gZXbHYLkrk7"
      },
      "source": [
        "# Overview\n",
        "The purpose of this lab is to understand how age and race statistically relate to each other in terms of voting using fabricated data (http://hamelg.blogspot.com/2015/11/python-for-data-analysis-part-16_23.html). This will help us understand what, if any, relationship there is between ages among different races of voters. The null hypothesis is that there is no significant difference between group means, and the alternative hypothesis is that there is a significant difference between group means. We will decide whether to reject the null hypothesis using the one-way ANOVA test, T-test and Tukey Test. These tests are all used in statistics and data analysis to determine whether there are any statistically significant differences between the means of three or more groups. In this case, we have five groups: Asian, Black, Hispanic, Other, and White. We will be using the three tests to determine whether the mean age of voters is the same or different among the five races that we specified. When performing a one-way ANOVA analysis we must assume the following: each sample is taken from a normal distribution, each sample is taken independently of the other samples, the variance of data in each group should be equal, and the dependent variable is continuous (https://www.technologynetworks.com/informatics/articles/one-way-vs-two-way-anova-definition-differences-assumptions-and-hypotheses-306553 ).The results of a one-way ANOVA test are reported using the F-value and the corresponding p-value. The F-value, also known as F-statistic, is the number that is used to determine whether the difference between the means is statistically significant. The F-test reveals whether the variability between group means is larger than that of the observations within each group.\n",
        "\n",
        "Sources that are used and cited later in this report include: <br>\n",
        "http://hamelg.blogspot.com/2015/11/python-for-data-analysis-part-16_23.html <br>\n",
        " https://www.youtube.com/watch?v=-o3AxdVcUtQ&t=522s&ab_channel=edureka%21 <br>\n",
        " https://towardsdatascience.com/ways-to-detect-and-remove-the-outliers-404d16608dba "
      ]
    },
    {
      "cell_type": "markdown",
      "metadata": {
        "id": "I8Xwmrxmk1Om"
      },
      "source": [
        "# Data\n",
        "Our data was generated using code from http://hamelg.blogspot.com/2015/11/python-for-data-analysis-part-16_23.html "
      ]
    },
    {
      "cell_type": "code",
      "metadata": {
        "id": "S4LN6bRbl88J"
      },
      "source": [
        "# import libraries\n",
        "import numpy as np\n",
        "import pandas as pd\n",
        "import matplotlib.pyplot as plt\n",
        "import scipy.stats as stats\n",
        "import seaborn as sns"
      ],
      "execution_count": null,
      "outputs": []
    },
    {
      "cell_type": "code",
      "metadata": {
        "colab": {
          "base_uri": "https://localhost:8080/"
        },
        "id": "5jVzZbfbl-n4",
        "outputId": "76b364d2-b667-4962-d20c-d0b1f51939fb"
      },
      "source": [
        "# Create DataSet 1\n",
        "np.random.seed(12)\n",
        "\n",
        "races1 =   [\"asian1\",\"black1\",\"hispanic1\",\"other1\",\"white1\"]\n",
        "\n",
        "# Generate random data\n",
        "voter_race_01 = np.random.choice(a= races1,\n",
        "                              p = [0.05, 0.15 ,0.25, 0.05, 0.5],\n",
        "                              size=1000)\n",
        "\n",
        "voter_age_01 = stats.poisson.rvs(loc=18,\n",
        "                              mu=30,\n",
        "                              size=1000)\n",
        "\n",
        "# Group age data by race\n",
        "voter_frame_01 = pd.DataFrame({\"race\":voter_race_01,\"age\":voter_age_01})\n",
        "groups_01 = voter_frame_01.groupby(\"race\").groups\n",
        "\n",
        "# Extract individual groups\n",
        "asian1 = voter_age_01[groups_01[\"asian1\"]]\n",
        "black1 = voter_age_01[groups_01[\"black1\"]]\n",
        "hispanic1 = voter_age_01[groups_01[\"hispanic1\"]]\n",
        "other1 = voter_age_01[groups_01[\"other1\"]]\n",
        "white1 = voter_age_01[groups_01[\"white1\"]]"
      ],
      "execution_count": null,
      "outputs": [
        {
          "output_type": "execute_result",
          "data": {
            "text/plain": [
              "F_onewayResult(statistic=1.7744689357329695, pvalue=0.13173183201930463)"
            ]
          },
          "metadata": {},
          "execution_count": 120
        }
      ]
    },
    {
      "cell_type": "code",
      "metadata": {
        "colab": {
          "base_uri": "https://localhost:8080/"
        },
        "id": "oLiXSbVxmHd0",
        "outputId": "ee043fe1-6752-4966-97fb-20f96a44e55f"
      },
      "source": [
        "#Create DataSet 2\n",
        "np.random.seed(12)\n",
        "\n",
        "races2 =   [\"asian2\",\"black2\",\"hispanic2\",\"other2\",\"white2\"]\n",
        "\n",
        "# Generate random data\n",
        "voter_race_02 = np.random.choice(a= races2,\n",
        "                              p = [0.05, 0.15 ,0.25, 0.05, 0.5],\n",
        "                              size=1000)\n",
        "\n",
        "# Use a different distribution for white ages\n",
        "white_ages = stats.poisson.rvs(loc=18, \n",
        "                              mu=32,\n",
        "                              size=1000)\n",
        "\n",
        "voter_age_02 = stats.poisson.rvs(loc=18,\n",
        "                              mu=30,\n",
        "                              size=1000)\n",
        "\n",
        "voter_age_02 = np.where(voter_race_02==\"white2\", white_ages, voter_age_02)\n",
        "\n",
        "# Group age data by race\n",
        "voter_frame_02 = pd.DataFrame({\"race\":voter_race_02,\"age\":voter_age_02})\n",
        "groups_02 = voter_frame_02.groupby(\"race\").groups   \n",
        "\n",
        "# Extract individual groups\n",
        "asian2 = voter_age_02[groups_02[\"asian2\"]]\n",
        "black2 = voter_age_02[groups_02[\"black2\"]]\n",
        "hispanic2 = voter_age_02[groups_02[\"hispanic2\"]]\n",
        "other2 = voter_age_02[groups_02[\"other2\"]]\n",
        "white2 = voter_age_02[groups_02[\"white2\"]]"
      ],
      "execution_count": null,
      "outputs": [
        {
          "output_type": "execute_result",
          "data": {
            "text/plain": [
              "F_onewayResult(statistic=10.164699828386366, pvalue=4.5613242113994585e-08)"
            ]
          },
          "metadata": {},
          "execution_count": 121
        }
      ]
    },
    {
      "cell_type": "markdown",
      "metadata": {
        "id": "e2jy40LMlHSE"
      },
      "source": [
        "# Exploratory Data Analysis (EDA)\n",
        "The following Exploratory Data Analyis was performed with guidance and information from: https://www.youtube.com/watch?v=-o3AxdVcUtQ&t=522s&ab_channel=edureka%21"
      ]
    },
    {
      "cell_type": "markdown",
      "metadata": {
        "id": "XLrR4pSnEXxt"
      },
      "source": [
        "## Understand the Data"
      ]
    },
    {
      "cell_type": "markdown",
      "metadata": {
        "id": "i_mBcMKiHvIs"
      },
      "source": [
        "### Data Set 1"
      ]
    },
    {
      "cell_type": "code",
      "metadata": {
        "colab": {
          "base_uri": "https://localhost:8080/",
          "height": 206
        },
        "id": "mTd_YnyPIxlU",
        "outputId": "98292c25-382b-4ed8-abf9-77a988dc67d3"
      },
      "source": [
        "#see first 5 rows\n",
        "voter_frame_01.head()\n"
      ],
      "execution_count": null,
      "outputs": [
        {
          "output_type": "execute_result",
          "data": {
            "text/html": [
              "<div>\n",
              "<style scoped>\n",
              "    .dataframe tbody tr th:only-of-type {\n",
              "        vertical-align: middle;\n",
              "    }\n",
              "\n",
              "    .dataframe tbody tr th {\n",
              "        vertical-align: top;\n",
              "    }\n",
              "\n",
              "    .dataframe thead th {\n",
              "        text-align: right;\n",
              "    }\n",
              "</style>\n",
              "<table border=\"1\" class=\"dataframe\">\n",
              "  <thead>\n",
              "    <tr style=\"text-align: right;\">\n",
              "      <th></th>\n",
              "      <th>race</th>\n",
              "      <th>age</th>\n",
              "    </tr>\n",
              "  </thead>\n",
              "  <tbody>\n",
              "    <tr>\n",
              "      <th>0</th>\n",
              "      <td>black1</td>\n",
              "      <td>51</td>\n",
              "    </tr>\n",
              "    <tr>\n",
              "      <th>1</th>\n",
              "      <td>white1</td>\n",
              "      <td>49</td>\n",
              "    </tr>\n",
              "    <tr>\n",
              "      <th>2</th>\n",
              "      <td>hispanic1</td>\n",
              "      <td>51</td>\n",
              "    </tr>\n",
              "    <tr>\n",
              "      <th>3</th>\n",
              "      <td>white1</td>\n",
              "      <td>48</td>\n",
              "    </tr>\n",
              "    <tr>\n",
              "      <th>4</th>\n",
              "      <td>asian1</td>\n",
              "      <td>56</td>\n",
              "    </tr>\n",
              "  </tbody>\n",
              "</table>\n",
              "</div>"
            ],
            "text/plain": [
              "        race  age\n",
              "0     black1   51\n",
              "1     white1   49\n",
              "2  hispanic1   51\n",
              "3     white1   48\n",
              "4     asian1   56"
            ]
          },
          "metadata": {},
          "execution_count": 122
        }
      ]
    },
    {
      "cell_type": "code",
      "metadata": {
        "colab": {
          "base_uri": "https://localhost:8080/",
          "height": 206
        },
        "id": "wphdTQWfI0z2",
        "outputId": "0c9b30ff-7cb4-406f-f437-2b81afdaba7d"
      },
      "source": [
        "#see last 5 rows\n",
        "voter_frame_01.tail()"
      ],
      "execution_count": null,
      "outputs": [
        {
          "output_type": "execute_result",
          "data": {
            "text/html": [
              "<div>\n",
              "<style scoped>\n",
              "    .dataframe tbody tr th:only-of-type {\n",
              "        vertical-align: middle;\n",
              "    }\n",
              "\n",
              "    .dataframe tbody tr th {\n",
              "        vertical-align: top;\n",
              "    }\n",
              "\n",
              "    .dataframe thead th {\n",
              "        text-align: right;\n",
              "    }\n",
              "</style>\n",
              "<table border=\"1\" class=\"dataframe\">\n",
              "  <thead>\n",
              "    <tr style=\"text-align: right;\">\n",
              "      <th></th>\n",
              "      <th>race</th>\n",
              "      <th>age</th>\n",
              "    </tr>\n",
              "  </thead>\n",
              "  <tbody>\n",
              "    <tr>\n",
              "      <th>995</th>\n",
              "      <td>white1</td>\n",
              "      <td>47</td>\n",
              "    </tr>\n",
              "    <tr>\n",
              "      <th>996</th>\n",
              "      <td>asian1</td>\n",
              "      <td>40</td>\n",
              "    </tr>\n",
              "    <tr>\n",
              "      <th>997</th>\n",
              "      <td>white1</td>\n",
              "      <td>50</td>\n",
              "    </tr>\n",
              "    <tr>\n",
              "      <th>998</th>\n",
              "      <td>white1</td>\n",
              "      <td>51</td>\n",
              "    </tr>\n",
              "    <tr>\n",
              "      <th>999</th>\n",
              "      <td>hispanic1</td>\n",
              "      <td>43</td>\n",
              "    </tr>\n",
              "  </tbody>\n",
              "</table>\n",
              "</div>"
            ],
            "text/plain": [
              "          race  age\n",
              "995     white1   47\n",
              "996     asian1   40\n",
              "997     white1   50\n",
              "998     white1   51\n",
              "999  hispanic1   43"
            ]
          },
          "metadata": {},
          "execution_count": 123
        }
      ]
    },
    {
      "cell_type": "code",
      "metadata": {
        "colab": {
          "base_uri": "https://localhost:8080/"
        },
        "id": "7RggHAO8I4SN",
        "outputId": "e52f20bf-274e-4546-e1b3-9bbff5ef740e"
      },
      "source": [
        "#see how many rows and columns are in the dataset\n",
        "voter_frame_01.shape"
      ],
      "execution_count": null,
      "outputs": [
        {
          "output_type": "execute_result",
          "data": {
            "text/plain": [
              "(1000, 2)"
            ]
          },
          "metadata": {},
          "execution_count": 124
        }
      ]
    },
    {
      "cell_type": "code",
      "metadata": {
        "colab": {
          "base_uri": "https://localhost:8080/"
        },
        "id": "FiJteEwIJAMP",
        "outputId": "0f15ee8f-f6ad-4e2e-cb9d-788f1c724f2a"
      },
      "source": [
        "#see how many unique races and ages there are in the dataset\n",
        "voter_frame_01.nunique()"
      ],
      "execution_count": null,
      "outputs": [
        {
          "output_type": "execute_result",
          "data": {
            "text/plain": [
              "race     5\n",
              "age     31\n",
              "dtype: int64"
            ]
          },
          "metadata": {},
          "execution_count": 125
        }
      ]
    },
    {
      "cell_type": "code",
      "metadata": {
        "colab": {
          "base_uri": "https://localhost:8080/"
        },
        "id": "DQatgP2qJEPM",
        "outputId": "f3ade596-3788-4006-8f14-e56b439c4ac3"
      },
      "source": [
        "#see what the race values are\n",
        "voter_frame_01['race'].unique()"
      ],
      "execution_count": null,
      "outputs": [
        {
          "output_type": "execute_result",
          "data": {
            "text/plain": [
              "array(['black1', 'white1', 'hispanic1', 'asian1', 'other1'], dtype=object)"
            ]
          },
          "metadata": {},
          "execution_count": 126
        }
      ]
    },
    {
      "cell_type": "code",
      "metadata": {
        "colab": {
          "base_uri": "https://localhost:8080/",
          "height": 300
        },
        "id": "_mgewi2cJIIx",
        "outputId": "c692125f-9e01-46bf-d66d-6410a8fb8246"
      },
      "source": [
        "#get dataset attributes\n",
        "voter_frame_01.describe()"
      ],
      "execution_count": null,
      "outputs": [
        {
          "output_type": "execute_result",
          "data": {
            "text/html": [
              "<div>\n",
              "<style scoped>\n",
              "    .dataframe tbody tr th:only-of-type {\n",
              "        vertical-align: middle;\n",
              "    }\n",
              "\n",
              "    .dataframe tbody tr th {\n",
              "        vertical-align: top;\n",
              "    }\n",
              "\n",
              "    .dataframe thead th {\n",
              "        text-align: right;\n",
              "    }\n",
              "</style>\n",
              "<table border=\"1\" class=\"dataframe\">\n",
              "  <thead>\n",
              "    <tr style=\"text-align: right;\">\n",
              "      <th></th>\n",
              "      <th>age</th>\n",
              "    </tr>\n",
              "  </thead>\n",
              "  <tbody>\n",
              "    <tr>\n",
              "      <th>count</th>\n",
              "      <td>1000.000000</td>\n",
              "    </tr>\n",
              "    <tr>\n",
              "      <th>mean</th>\n",
              "      <td>47.773000</td>\n",
              "    </tr>\n",
              "    <tr>\n",
              "      <th>std</th>\n",
              "      <td>5.308074</td>\n",
              "    </tr>\n",
              "    <tr>\n",
              "      <th>min</th>\n",
              "      <td>34.000000</td>\n",
              "    </tr>\n",
              "    <tr>\n",
              "      <th>25%</th>\n",
              "      <td>44.000000</td>\n",
              "    </tr>\n",
              "    <tr>\n",
              "      <th>50%</th>\n",
              "      <td>48.000000</td>\n",
              "    </tr>\n",
              "    <tr>\n",
              "      <th>75%</th>\n",
              "      <td>51.000000</td>\n",
              "    </tr>\n",
              "    <tr>\n",
              "      <th>max</th>\n",
              "      <td>66.000000</td>\n",
              "    </tr>\n",
              "  </tbody>\n",
              "</table>\n",
              "</div>"
            ],
            "text/plain": [
              "               age\n",
              "count  1000.000000\n",
              "mean     47.773000\n",
              "std       5.308074\n",
              "min      34.000000\n",
              "25%      44.000000\n",
              "50%      48.000000\n",
              "75%      51.000000\n",
              "max      66.000000"
            ]
          },
          "metadata": {},
          "execution_count": 127
        }
      ]
    },
    {
      "cell_type": "markdown",
      "metadata": {
        "id": "6HzkVgeWHyjr"
      },
      "source": [
        "### Data Set 2"
      ]
    },
    {
      "cell_type": "code",
      "metadata": {
        "colab": {
          "base_uri": "https://localhost:8080/",
          "height": 206
        },
        "id": "j6KzsfdBAUY4",
        "outputId": "5d3ede37-ae74-4819-cfcf-4293bf346045"
      },
      "source": [
        "#see first 5 rows\n",
        "voter_frame_02.head()\n"
      ],
      "execution_count": null,
      "outputs": [
        {
          "output_type": "execute_result",
          "data": {
            "text/html": [
              "<div>\n",
              "<style scoped>\n",
              "    .dataframe tbody tr th:only-of-type {\n",
              "        vertical-align: middle;\n",
              "    }\n",
              "\n",
              "    .dataframe tbody tr th {\n",
              "        vertical-align: top;\n",
              "    }\n",
              "\n",
              "    .dataframe thead th {\n",
              "        text-align: right;\n",
              "    }\n",
              "</style>\n",
              "<table border=\"1\" class=\"dataframe\">\n",
              "  <thead>\n",
              "    <tr style=\"text-align: right;\">\n",
              "      <th></th>\n",
              "      <th>race</th>\n",
              "      <th>age</th>\n",
              "    </tr>\n",
              "  </thead>\n",
              "  <tbody>\n",
              "    <tr>\n",
              "      <th>0</th>\n",
              "      <td>black2</td>\n",
              "      <td>54</td>\n",
              "    </tr>\n",
              "    <tr>\n",
              "      <th>1</th>\n",
              "      <td>white2</td>\n",
              "      <td>51</td>\n",
              "    </tr>\n",
              "    <tr>\n",
              "      <th>2</th>\n",
              "      <td>hispanic2</td>\n",
              "      <td>53</td>\n",
              "    </tr>\n",
              "    <tr>\n",
              "      <th>3</th>\n",
              "      <td>white2</td>\n",
              "      <td>50</td>\n",
              "    </tr>\n",
              "    <tr>\n",
              "      <th>4</th>\n",
              "      <td>asian2</td>\n",
              "      <td>51</td>\n",
              "    </tr>\n",
              "  </tbody>\n",
              "</table>\n",
              "</div>"
            ],
            "text/plain": [
              "        race  age\n",
              "0     black2   54\n",
              "1     white2   51\n",
              "2  hispanic2   53\n",
              "3     white2   50\n",
              "4     asian2   51"
            ]
          },
          "metadata": {},
          "execution_count": 128
        }
      ]
    },
    {
      "cell_type": "code",
      "metadata": {
        "colab": {
          "base_uri": "https://localhost:8080/",
          "height": 206
        },
        "id": "LA7gJY9SAr5h",
        "outputId": "d7e7e8ae-78d7-45ac-bc4c-4e0921959997"
      },
      "source": [
        "#see last 5 rows\n",
        "voter_frame_02.tail()"
      ],
      "execution_count": null,
      "outputs": [
        {
          "output_type": "execute_result",
          "data": {
            "text/html": [
              "<div>\n",
              "<style scoped>\n",
              "    .dataframe tbody tr th:only-of-type {\n",
              "        vertical-align: middle;\n",
              "    }\n",
              "\n",
              "    .dataframe tbody tr th {\n",
              "        vertical-align: top;\n",
              "    }\n",
              "\n",
              "    .dataframe thead th {\n",
              "        text-align: right;\n",
              "    }\n",
              "</style>\n",
              "<table border=\"1\" class=\"dataframe\">\n",
              "  <thead>\n",
              "    <tr style=\"text-align: right;\">\n",
              "      <th></th>\n",
              "      <th>race</th>\n",
              "      <th>age</th>\n",
              "    </tr>\n",
              "  </thead>\n",
              "  <tbody>\n",
              "    <tr>\n",
              "      <th>995</th>\n",
              "      <td>white2</td>\n",
              "      <td>51</td>\n",
              "    </tr>\n",
              "    <tr>\n",
              "      <th>996</th>\n",
              "      <td>asian2</td>\n",
              "      <td>45</td>\n",
              "    </tr>\n",
              "    <tr>\n",
              "      <th>997</th>\n",
              "      <td>white2</td>\n",
              "      <td>51</td>\n",
              "    </tr>\n",
              "    <tr>\n",
              "      <th>998</th>\n",
              "      <td>white2</td>\n",
              "      <td>45</td>\n",
              "    </tr>\n",
              "    <tr>\n",
              "      <th>999</th>\n",
              "      <td>hispanic2</td>\n",
              "      <td>56</td>\n",
              "    </tr>\n",
              "  </tbody>\n",
              "</table>\n",
              "</div>"
            ],
            "text/plain": [
              "          race  age\n",
              "995     white2   51\n",
              "996     asian2   45\n",
              "997     white2   51\n",
              "998     white2   45\n",
              "999  hispanic2   56"
            ]
          },
          "metadata": {},
          "execution_count": 129
        }
      ]
    },
    {
      "cell_type": "code",
      "metadata": {
        "colab": {
          "base_uri": "https://localhost:8080/"
        },
        "id": "fy0TUPisA6-q",
        "outputId": "9bd48d66-f219-4143-8ec3-5b084d1187fa"
      },
      "source": [
        "#see how many rows and columns are in the dataset\n",
        "voter_frame_02.shape"
      ],
      "execution_count": null,
      "outputs": [
        {
          "output_type": "execute_result",
          "data": {
            "text/plain": [
              "(1000, 2)"
            ]
          },
          "metadata": {},
          "execution_count": 130
        }
      ]
    },
    {
      "cell_type": "code",
      "metadata": {
        "colab": {
          "base_uri": "https://localhost:8080/"
        },
        "id": "mMOb_5mXCDPE",
        "outputId": "c385f793-422f-4597-e70f-67d22f6e7bfe"
      },
      "source": [
        "#see how many unique races and ages there are in the dataset\n",
        "voter_frame_02.nunique()"
      ],
      "execution_count": null,
      "outputs": [
        {
          "output_type": "execute_result",
          "data": {
            "text/plain": [
              "race     5\n",
              "age     36\n",
              "dtype: int64"
            ]
          },
          "metadata": {},
          "execution_count": 131
        }
      ]
    },
    {
      "cell_type": "code",
      "metadata": {
        "colab": {
          "base_uri": "https://localhost:8080/"
        },
        "id": "AL6QZ6FACj23",
        "outputId": "5bea8fef-2d28-4927-c714-afaff7a7a00e"
      },
      "source": [
        "#see what the race values are\n",
        "voter_frame_02['race'].unique()"
      ],
      "execution_count": null,
      "outputs": [
        {
          "output_type": "execute_result",
          "data": {
            "text/plain": [
              "array(['black2', 'white2', 'hispanic2', 'asian2', 'other2'], dtype=object)"
            ]
          },
          "metadata": {},
          "execution_count": 132
        }
      ]
    },
    {
      "cell_type": "code",
      "metadata": {
        "colab": {
          "base_uri": "https://localhost:8080/",
          "height": 300
        },
        "id": "5eoEldC9Bi_2",
        "outputId": "92579cfe-4bf2-4c4a-d85c-afa090d09e64"
      },
      "source": [
        "#get dataset attributes\n",
        "voter_frame_02.describe()"
      ],
      "execution_count": null,
      "outputs": [
        {
          "output_type": "execute_result",
          "data": {
            "text/html": [
              "<div>\n",
              "<style scoped>\n",
              "    .dataframe tbody tr th:only-of-type {\n",
              "        vertical-align: middle;\n",
              "    }\n",
              "\n",
              "    .dataframe tbody tr th {\n",
              "        vertical-align: top;\n",
              "    }\n",
              "\n",
              "    .dataframe thead th {\n",
              "        text-align: right;\n",
              "    }\n",
              "</style>\n",
              "<table border=\"1\" class=\"dataframe\">\n",
              "  <thead>\n",
              "    <tr style=\"text-align: right;\">\n",
              "      <th></th>\n",
              "      <th>age</th>\n",
              "    </tr>\n",
              "  </thead>\n",
              "  <tbody>\n",
              "    <tr>\n",
              "      <th>count</th>\n",
              "      <td>1000.00000</td>\n",
              "    </tr>\n",
              "    <tr>\n",
              "      <th>mean</th>\n",
              "      <td>49.14100</td>\n",
              "    </tr>\n",
              "    <tr>\n",
              "      <th>std</th>\n",
              "      <td>5.72205</td>\n",
              "    </tr>\n",
              "    <tr>\n",
              "      <th>min</th>\n",
              "      <td>29.00000</td>\n",
              "    </tr>\n",
              "    <tr>\n",
              "      <th>25%</th>\n",
              "      <td>45.00000</td>\n",
              "    </tr>\n",
              "    <tr>\n",
              "      <th>50%</th>\n",
              "      <td>49.00000</td>\n",
              "    </tr>\n",
              "    <tr>\n",
              "      <th>75%</th>\n",
              "      <td>53.00000</td>\n",
              "    </tr>\n",
              "    <tr>\n",
              "      <th>max</th>\n",
              "      <td>72.00000</td>\n",
              "    </tr>\n",
              "  </tbody>\n",
              "</table>\n",
              "</div>"
            ],
            "text/plain": [
              "              age\n",
              "count  1000.00000\n",
              "mean     49.14100\n",
              "std       5.72205\n",
              "min      29.00000\n",
              "25%      45.00000\n",
              "50%      49.00000\n",
              "75%      53.00000\n",
              "max      72.00000"
            ]
          },
          "metadata": {},
          "execution_count": 133
        }
      ]
    },
    {
      "cell_type": "markdown",
      "metadata": {
        "id": "K_X9CIm9BQ68"
      },
      "source": [
        "From the above code, we can see that we have two datasets, each with 1000 rows and two columns, one column being race and the other being age. There are 5 unique race values (black, white, hispanic, asian, and other) and 36 unique age values. We also get the metrics for age because that is the only quantitative variable in our dataset. "
      ]
    },
    {
      "cell_type": "markdown",
      "metadata": {
        "id": "L9Xr94xgEit5"
      },
      "source": [
        "## Clean the Data"
      ]
    },
    {
      "cell_type": "markdown",
      "metadata": {
        "id": "HOg0iwdQIA2i"
      },
      "source": [
        "### Data Set 1"
      ]
    },
    {
      "cell_type": "code",
      "metadata": {
        "colab": {
          "base_uri": "https://localhost:8080/"
        },
        "id": "C7e4R35fJPI9",
        "outputId": "5e0b72b8-09a5-435d-89ad-cc47c91c11ea"
      },
      "source": [
        "#check for null values\n",
        "voter_frame_01.isnull().sum()"
      ],
      "execution_count": null,
      "outputs": [
        {
          "output_type": "execute_result",
          "data": {
            "text/plain": [
              "race    0\n",
              "age     0\n",
              "dtype: int64"
            ]
          },
          "metadata": {},
          "execution_count": 134
        }
      ]
    },
    {
      "cell_type": "code",
      "metadata": {
        "colab": {
          "base_uri": "https://localhost:8080/",
          "height": 297
        },
        "id": "uBlTp-oyJSb8",
        "outputId": "a680e985-e095-41f1-a494-3f17e08a8599"
      },
      "source": [
        "#check for outliers using boxplot\n",
        "sns.boxplot(x=voter_frame_01['age'])"
      ],
      "execution_count": null,
      "outputs": [
        {
          "output_type": "execute_result",
          "data": {
            "text/plain": [
              "<matplotlib.axes._subplots.AxesSubplot at 0x7fd84c8bd950>"
            ]
          },
          "metadata": {},
          "execution_count": 135
        },
        {
          "output_type": "display_data",
          "data": {
            "image/png": "[encoded data removed]",
            "text/plain": [
              "<Figure size 432x288 with 1 Axes>"
            ]
          },
          "metadata": {
            "needs_background": "light"
          }
        }
      ]
    },
    {
      "cell_type": "code",
      "metadata": {
        "colab": {
          "base_uri": "https://localhost:8080/"
        },
        "id": "fE_kav3SJXof",
        "outputId": "87d691eb-9f01-41e0-cd36-57f045767ce2"
      },
      "source": [
        "#get IQR values\n",
        "Q1_01 = voter_frame_01.quantile(0.25)\n",
        "Q3_01 = voter_frame_01.quantile(0.75)\n",
        "IQR_01 = Q3_01 - Q1_01\n",
        "print(Q1_01)\n",
        "print(Q3_01)\n",
        "print(IQR_01)"
      ],
      "execution_count": null,
      "outputs": [
        {
          "output_type": "stream",
          "name": "stdout",
          "text": [
            "age    44.0\n",
            "Name: 0.25, dtype: float64\n",
            "age    51.0\n",
            "Name: 0.75, dtype: float64\n",
            "age    7.0\n",
            "dtype: float64\n"
          ]
        }
      ]
    },
    {
      "cell_type": "code",
      "metadata": {
        "colab": {
          "base_uri": "https://localhost:8080/",
          "height": 269
        },
        "id": "AZv_Xb1QJgU9",
        "outputId": "c10c7367-b085-4105-dc06-2cbe6de1e453"
      },
      "source": [
        "voter_frame_01.loc[voter_frame_01['age'] > 61]"
      ],
      "execution_count": null,
      "outputs": [
        {
          "output_type": "execute_result",
          "data": {
            "text/html": [
              "<div>\n",
              "<style scoped>\n",
              "    .dataframe tbody tr th:only-of-type {\n",
              "        vertical-align: middle;\n",
              "    }\n",
              "\n",
              "    .dataframe tbody tr th {\n",
              "        vertical-align: top;\n",
              "    }\n",
              "\n",
              "    .dataframe thead th {\n",
              "        text-align: right;\n",
              "    }\n",
              "</style>\n",
              "<table border=\"1\" class=\"dataframe\">\n",
              "  <thead>\n",
              "    <tr style=\"text-align: right;\">\n",
              "      <th></th>\n",
              "      <th>race</th>\n",
              "      <th>age</th>\n",
              "    </tr>\n",
              "  </thead>\n",
              "  <tbody>\n",
              "    <tr>\n",
              "      <th>35</th>\n",
              "      <td>white1</td>\n",
              "      <td>62</td>\n",
              "    </tr>\n",
              "    <tr>\n",
              "      <th>235</th>\n",
              "      <td>hispanic1</td>\n",
              "      <td>65</td>\n",
              "    </tr>\n",
              "    <tr>\n",
              "      <th>361</th>\n",
              "      <td>hispanic1</td>\n",
              "      <td>65</td>\n",
              "    </tr>\n",
              "    <tr>\n",
              "      <th>543</th>\n",
              "      <td>white1</td>\n",
              "      <td>62</td>\n",
              "    </tr>\n",
              "    <tr>\n",
              "      <th>682</th>\n",
              "      <td>hispanic1</td>\n",
              "      <td>62</td>\n",
              "    </tr>\n",
              "    <tr>\n",
              "      <th>793</th>\n",
              "      <td>hispanic1</td>\n",
              "      <td>66</td>\n",
              "    </tr>\n",
              "    <tr>\n",
              "      <th>966</th>\n",
              "      <td>hispanic1</td>\n",
              "      <td>62</td>\n",
              "    </tr>\n",
              "  </tbody>\n",
              "</table>\n",
              "</div>"
            ],
            "text/plain": [
              "          race  age\n",
              "35      white1   62\n",
              "235  hispanic1   65\n",
              "361  hispanic1   65\n",
              "543     white1   62\n",
              "682  hispanic1   62\n",
              "793  hispanic1   66\n",
              "966  hispanic1   62"
            ]
          },
          "metadata": {},
          "execution_count": 137
        }
      ]
    },
    {
      "cell_type": "code",
      "metadata": {
        "colab": {
          "base_uri": "https://localhost:8080/",
          "height": 49
        },
        "id": "xSURMN4HJkxm",
        "outputId": "46ad87f6-ead5-4729-a47a-3d45fb6c9d28"
      },
      "source": [
        "voter_frame_01.loc[voter_frame_01['age'] < 34]"
      ],
      "execution_count": null,
      "outputs": [
        {
          "output_type": "execute_result",
          "data": {
            "text/html": [
              "<div>\n",
              "<style scoped>\n",
              "    .dataframe tbody tr th:only-of-type {\n",
              "        vertical-align: middle;\n",
              "    }\n",
              "\n",
              "    .dataframe tbody tr th {\n",
              "        vertical-align: top;\n",
              "    }\n",
              "\n",
              "    .dataframe thead th {\n",
              "        text-align: right;\n",
              "    }\n",
              "</style>\n",
              "<table border=\"1\" class=\"dataframe\">\n",
              "  <thead>\n",
              "    <tr style=\"text-align: right;\">\n",
              "      <th></th>\n",
              "      <th>race</th>\n",
              "      <th>age</th>\n",
              "    </tr>\n",
              "  </thead>\n",
              "  <tbody>\n",
              "  </tbody>\n",
              "</table>\n",
              "</div>"
            ],
            "text/plain": [
              "Empty DataFrame\n",
              "Columns: [race, age]\n",
              "Index: []"
            ]
          },
          "metadata": {},
          "execution_count": 138
        }
      ]
    },
    {
      "cell_type": "code",
      "metadata": {
        "colab": {
          "base_uri": "https://localhost:8080/"
        },
        "id": "PQb4nN5bJ85G",
        "outputId": "380bbff0-a4dd-4639-fda3-3b4bc9c8a2e9"
      },
      "source": [
        "#eliminate values that fall outside the IQR values\n",
        "voter_frame_01 = voter_frame_01[~((voter_frame_01 < (Q1_01 - 1.5 * IQR_01)) |(voter_frame_01 > (Q3_01 + 1.5 * IQR_01))).any(axis=1)]\n",
        "voter_frame_01.shape"
      ],
      "execution_count": null,
      "outputs": [
        {
          "output_type": "execute_result",
          "data": {
            "text/plain": [
              "(993, 2)"
            ]
          },
          "metadata": {},
          "execution_count": 139
        }
      ]
    },
    {
      "cell_type": "markdown",
      "metadata": {
        "id": "D_PoSMx5IBNF"
      },
      "source": [
        "### Data Set 2"
      ]
    },
    {
      "cell_type": "code",
      "metadata": {
        "colab": {
          "base_uri": "https://localhost:8080/"
        },
        "id": "5yE4WswKEny_",
        "outputId": "aaa7738e-f94a-4e0a-cf39-cdd8e3b47da5"
      },
      "source": [
        "#check for null values\n",
        "voter_frame_02.isnull().sum()"
      ],
      "execution_count": null,
      "outputs": [
        {
          "output_type": "execute_result",
          "data": {
            "text/plain": [
              "race    0\n",
              "age     0\n",
              "dtype: int64"
            ]
          },
          "metadata": {},
          "execution_count": 140
        }
      ]
    },
    {
      "cell_type": "code",
      "metadata": {
        "colab": {
          "base_uri": "https://localhost:8080/",
          "height": 297
        },
        "id": "GiXVIppgGDmK",
        "outputId": "8f420aa0-b6fd-480c-a66b-db2c4f317d40"
      },
      "source": [
        "#check for outliers using boxplot\n",
        "sns.boxplot(x=voter_frame_02['age'])"
      ],
      "execution_count": null,
      "outputs": [
        {
          "output_type": "execute_result",
          "data": {
            "text/plain": [
              "<matplotlib.axes._subplots.AxesSubplot at 0x7fd84c8f33d0>"
            ]
          },
          "metadata": {},
          "execution_count": 141
        },
        {
          "output_type": "display_data",
          "data": {
            "image/png": "[encoded data removed]",
            "text/plain": [
              "<Figure size 432x288 with 1 Axes>"
            ]
          },
          "metadata": {
            "needs_background": "light"
          }
        }
      ]
    },
    {
      "cell_type": "code",
      "metadata": {
        "colab": {
          "base_uri": "https://localhost:8080/"
        },
        "id": "UgGpqF6cJtTK",
        "outputId": "d640b1d0-b2e9-4e07-c48a-ca07ad7e46e1"
      },
      "source": [
        "#get IQR values\n",
        "Q1_02 = voter_frame_02.quantile(0.25)\n",
        "Q3_02 = voter_frame_02.quantile(0.75)\n",
        "IQR_02 = Q3_02 - Q1_02\n",
        "print(Q1_02)\n",
        "print(Q3_02)"
      ],
      "execution_count": null,
      "outputs": [
        {
          "output_type": "stream",
          "name": "stdout",
          "text": [
            "age    45.0\n",
            "Name: 0.25, dtype: float64\n",
            "age    53.0\n",
            "Name: 0.75, dtype: float64\n"
          ]
        }
      ]
    },
    {
      "cell_type": "code",
      "metadata": {
        "colab": {
          "base_uri": "https://localhost:8080/",
          "height": 175
        },
        "id": "k6KlzU36JAEM",
        "outputId": "e8722b7b-fe15-413d-84ba-116ef34faf3e"
      },
      "source": [
        "voter_frame_02.loc[voter_frame_02['age'] > 65]"
      ],
      "execution_count": null,
      "outputs": [
        {
          "output_type": "execute_result",
          "data": {
            "text/html": [
              "<div>\n",
              "<style scoped>\n",
              "    .dataframe tbody tr th:only-of-type {\n",
              "        vertical-align: middle;\n",
              "    }\n",
              "\n",
              "    .dataframe tbody tr th {\n",
              "        vertical-align: top;\n",
              "    }\n",
              "\n",
              "    .dataframe thead th {\n",
              "        text-align: right;\n",
              "    }\n",
              "</style>\n",
              "<table border=\"1\" class=\"dataframe\">\n",
              "  <thead>\n",
              "    <tr style=\"text-align: right;\">\n",
              "      <th></th>\n",
              "      <th>race</th>\n",
              "      <th>age</th>\n",
              "    </tr>\n",
              "  </thead>\n",
              "  <tbody>\n",
              "    <tr>\n",
              "      <th>518</th>\n",
              "      <td>black2</td>\n",
              "      <td>67</td>\n",
              "    </tr>\n",
              "    <tr>\n",
              "      <th>713</th>\n",
              "      <td>hispanic2</td>\n",
              "      <td>67</td>\n",
              "    </tr>\n",
              "    <tr>\n",
              "      <th>799</th>\n",
              "      <td>hispanic2</td>\n",
              "      <td>72</td>\n",
              "    </tr>\n",
              "    <tr>\n",
              "      <th>801</th>\n",
              "      <td>white2</td>\n",
              "      <td>69</td>\n",
              "    </tr>\n",
              "  </tbody>\n",
              "</table>\n",
              "</div>"
            ],
            "text/plain": [
              "          race  age\n",
              "518     black2   67\n",
              "713  hispanic2   67\n",
              "799  hispanic2   72\n",
              "801     white2   69"
            ]
          },
          "metadata": {},
          "execution_count": 143
        }
      ]
    },
    {
      "cell_type": "code",
      "metadata": {
        "colab": {
          "base_uri": "https://localhost:8080/",
          "height": 143
        },
        "id": "36cPfzMUKqIR",
        "outputId": "5f1cb858-7aa1-4d59-df6f-a4f521d29c8b"
      },
      "source": [
        "voter_frame_02.loc[voter_frame_02['age'] < 33]"
      ],
      "execution_count": null,
      "outputs": [
        {
          "output_type": "execute_result",
          "data": {
            "text/html": [
              "<div>\n",
              "<style scoped>\n",
              "    .dataframe tbody tr th:only-of-type {\n",
              "        vertical-align: middle;\n",
              "    }\n",
              "\n",
              "    .dataframe tbody tr th {\n",
              "        vertical-align: top;\n",
              "    }\n",
              "\n",
              "    .dataframe thead th {\n",
              "        text-align: right;\n",
              "    }\n",
              "</style>\n",
              "<table border=\"1\" class=\"dataframe\">\n",
              "  <thead>\n",
              "    <tr style=\"text-align: right;\">\n",
              "      <th></th>\n",
              "      <th>race</th>\n",
              "      <th>age</th>\n",
              "    </tr>\n",
              "  </thead>\n",
              "  <tbody>\n",
              "    <tr>\n",
              "      <th>240</th>\n",
              "      <td>hispanic2</td>\n",
              "      <td>32</td>\n",
              "    </tr>\n",
              "    <tr>\n",
              "      <th>370</th>\n",
              "      <td>other2</td>\n",
              "      <td>29</td>\n",
              "    </tr>\n",
              "    <tr>\n",
              "      <th>558</th>\n",
              "      <td>hispanic2</td>\n",
              "      <td>32</td>\n",
              "    </tr>\n",
              "  </tbody>\n",
              "</table>\n",
              "</div>"
            ],
            "text/plain": [
              "          race  age\n",
              "240  hispanic2   32\n",
              "370     other2   29\n",
              "558  hispanic2   32"
            ]
          },
          "metadata": {},
          "execution_count": 144
        }
      ]
    },
    {
      "cell_type": "code",
      "metadata": {
        "colab": {
          "base_uri": "https://localhost:8080/"
        },
        "id": "ouqSb22uIHEc",
        "outputId": "c918326c-7213-45f0-8280-3c7a5bac1bb7"
      },
      "source": [
        "#eliminate values that fall outside the IQR values\n",
        "voter_frame_02 = voter_frame_02[~((voter_frame_02 < (Q1_02 - 1.5 * IQR_02)) |(voter_frame_02 > (Q3_02 + 1.5 * IQR_02))).any(axis=1)]\n",
        "voter_frame_02.shape"
      ],
      "execution_count": null,
      "outputs": [
        {
          "output_type": "execute_result",
          "data": {
            "text/plain": [
              "(993, 2)"
            ]
          },
          "metadata": {},
          "execution_count": 145
        }
      ]
    },
    {
      "cell_type": "markdown",
      "metadata": {
        "id": "gzcY1oKFEw_b"
      },
      "source": [
        "There are no null values in either data set to eliminate or replace. We only have two variables, so we will not need to eliminate any redundant data. Using information from https://towardsdatascience.com/ways-to-detect-and-remove-the-outliers-404d16608dba, I used a boxplot visualization to identify the outliers that land outside of 1.5 times the interquartile range. However, I had to actually calculate the Q1 and Q4 values and check for the data outside of those values because a boxplot does not show if those dots have more than one piece of data. For example, the boxplot for Data Set 2 only shows 5 outliers, but there are actually 7 because 32 and 67 are repeated values. With this information, I can ensure that the amount of rows I am left with after elimination is correct. Depending on the data, you can choose whether to eliminate outliers or not. I decided to eliminate these outliers because I thought it would give me a better understanding of the data. Then, I was able to see that the amount of rows in each data set had dropped to 993 which is correct given there were 7 outliers in each data set."
      ]
    },
    {
      "cell_type": "markdown",
      "metadata": {
        "id": "TBvPvKb2k4zf"
      },
      "source": [
        "# Models"
      ]
    },
    {
      "cell_type": "markdown",
      "metadata": {
        "id": "vUE1eBXUNBEq"
      },
      "source": [
        "### Data Set 1"
      ]
    },
    {
      "cell_type": "code",
      "metadata": {
        "id": "FQra1tYbNIa1",
        "colab": {
          "base_uri": "https://localhost:8080/"
        },
        "outputId": "6a8e3508-3640-47d7-93e4-4fcbb100572b"
      },
      "source": [
        "# Perform the ANOVA\n",
        "stats.f_oneway(asian1, black1, hispanic1, other1, white1)"
      ],
      "execution_count": null,
      "outputs": [
        {
          "output_type": "execute_result",
          "data": {
            "text/plain": [
              "F_onewayResult(statistic=1.7744689357329695, pvalue=0.13173183201930463)"
            ]
          },
          "metadata": {},
          "execution_count": 146
        }
      ]
    },
    {
      "cell_type": "markdown",
      "metadata": {
        "id": "2ZYd5QfNM-od"
      },
      "source": [
        "The results of this one-way ANOVA show us that there is no significant difference between the means of each race because the F-statistic if too small and the p value is too large. In order to be statistically significant in this case the p value needs to be smaller than 0.05."
      ]
    },
    {
      "cell_type": "code",
      "metadata": {
        "id": "9A3Pl-XuNL1l",
        "colab": {
          "base_uri": "https://localhost:8080/"
        },
        "outputId": "2227ee55-254a-4b6f-ee0c-db8c06af9ad2"
      },
      "source": [
        "# Get all race pairs\n",
        "race_pairs1 = []\n",
        "\n",
        "for race1 in range(4):\n",
        "    for race2  in range(race1+1,5):\n",
        "        race_pairs1.append((races1[race1], races1[race2]))\n",
        "\n",
        "# Conduct t-test on each pair\n",
        "for race1, race2 in race_pairs1: \n",
        "    print(race1, race2)\n",
        "    print(stats.ttest_ind(voter_age_01[groups_01[race1]], \n",
        "                          voter_age_01[groups_01[race2]])) "
      ],
      "execution_count": null,
      "outputs": [
        {
          "output_type": "stream",
          "name": "stdout",
          "text": [
            "asian1 black1\n",
            "Ttest_indResult(statistic=1.4723166654510063, pvalue=0.14259864916065687)\n",
            "asian1 hispanic1\n",
            "Ttest_indResult(statistic=0.7952576949464497, pvalue=0.42712310624411387)\n",
            "asian1 other1\n",
            "Ttest_indResult(statistic=0.023943564194904926, pvalue=0.9809494819541007)\n",
            "asian1 white1\n",
            "Ttest_indResult(statistic=1.7847665455760953, pvalue=0.07484331440702094)\n",
            "black1 hispanic1\n",
            "Ttest_indResult(statistic=-0.9779887872139286, pvalue=0.328687679434698)\n",
            "black1 other1\n",
            "Ttest_indResult(statistic=-1.537940275215305, pvalue=0.12568427083007871)\n",
            "black1 white1\n",
            "Ttest_indResult(statistic=0.1754225782292794, pvalue=0.860801405242227)\n",
            "hispanic1 other1\n",
            "Ttest_indResult(statistic=-0.8181367221979297, pvalue=0.41394624196541574)\n",
            "hispanic1 white1\n",
            "Ttest_indResult(statistic=1.5959271355589721, pvalue=0.11092241932285327)\n",
            "other1 white1\n",
            "Ttest_indResult(statistic=1.866874647450789, pvalue=0.06243863321791571)\n"
          ]
        }
      ]
    },
    {
      "cell_type": "markdown",
      "metadata": {
        "id": "k-pPEFsUNjPo"
      },
      "source": [
        "Running a t-test on each pair of races confirms what we learned with the one-way ANOVA test; there is no significant difference between the means of any two races."
      ]
    },
    {
      "cell_type": "code",
      "metadata": {
        "id": "wFeH9ovyNQdK",
        "colab": {
          "base_uri": "https://localhost:8080/",
          "height": 699
        },
        "outputId": "3a71cb0a-81e3-45ab-af50-4c87dc9d5a47"
      },
      "source": [
        "from statsmodels.stats.multicomp import pairwise_tukeyhsd\n",
        "\n",
        "tukey = pairwise_tukeyhsd(endog=voter_age_01,     # Data\n",
        "                          groups=voter_race_01,   # Groups\n",
        "                          alpha=0.05)          # Significance level\n",
        "\n",
        "tukey.plot_simultaneous()    # Plot group confidence intervals\n",
        "plt.vlines(x=49.57,ymin=-0.5,ymax=4.5, color=\"red\")\n",
        "\n",
        "tukey.summary()              # See test summary"
      ],
      "execution_count": null,
      "outputs": [
        {
          "output_type": "stream",
          "name": "stderr",
          "text": [
            "/usr/local/lib/python3.7/dist-packages/statsmodels/tools/_testing.py:19: FutureWarning: pandas.util.testing is deprecated. Use the functions in the public API at pandas.testing instead.\n",
            "  import pandas.util.testing as tm\n"
          ]
        },
        {
          "output_type": "execute_result",
          "data": {
            "text/html": [
              "<table class=\"simpletable\">\n",
              "<caption>Multiple Comparison of Means - Tukey HSD, FWER=0.05</caption>\n",
              "<tr>\n",
              "   <th>group1</th>    <th>group2</th>   <th>meandiff</th>  <th>p-adj</th>  <th>lower</th>   <th>upper</th> <th>reject</th>\n",
              "</tr>\n",
              "<tr>\n",
              "   <td>asian1</td>    <td>black1</td>    <td>-1.3353</td> <td>0.5735</td> <td>-3.8242</td> <td>1.1535</td>  <td>False</td>\n",
              "</tr>\n",
              "<tr>\n",
              "   <td>asian1</td>   <td>hispanic1</td>  <td>-0.7593</td>   <td>0.9</td>  <td>-3.1315</td> <td>1.6129</td>  <td>False</td>\n",
              "</tr>\n",
              "<tr>\n",
              "   <td>asian1</td>    <td>other1</td>    <td>-0.0264</td>   <td>0.9</td>  <td>-3.0202</td> <td>2.9674</td>  <td>False</td>\n",
              "</tr>\n",
              "<tr>\n",
              "   <td>asian1</td>    <td>white1</td>    <td>-1.4184</td> <td>0.4336</td> <td>-3.6932</td> <td>0.8564</td>  <td>False</td>\n",
              "</tr>\n",
              "<tr>\n",
              "   <td>black1</td>   <td>hispanic1</td>   <td>0.576</td>  <td>0.8145</td> <td>-0.9362</td> <td>2.0882</td>  <td>False</td>\n",
              "</tr>\n",
              "<tr>\n",
              "   <td>black1</td>    <td>other1</td>     <td>1.309</td>  <td>0.5494</td> <td>-1.0622</td> <td>3.6801</td>  <td>False</td>\n",
              "</tr>\n",
              "<tr>\n",
              "   <td>black1</td>    <td>white1</td>    <td>-0.0831</td>   <td>0.9</td>  <td>-1.4374</td> <td>1.2713</td>  <td>False</td>\n",
              "</tr>\n",
              "<tr>\n",
              "  <td>hispanic1</td>  <td>other1</td>     <td>0.733</td>  <td>0.8996</td> <td>-1.5154</td> <td>2.9813</td>  <td>False</td>\n",
              "</tr>\n",
              "<tr>\n",
              "  <td>hispanic1</td>  <td>white1</td>    <td>-0.6591</td> <td>0.4974</td> <td>-1.7847</td> <td>0.4665</td>  <td>False</td>\n",
              "</tr>\n",
              "<tr>\n",
              "   <td>other1</td>    <td>white1</td>    <td>-1.392</td>  <td>0.3912</td> <td>-3.5374</td> <td>0.7533</td>  <td>False</td>\n",
              "</tr>\n",
              "</table>"
            ],
            "text/plain": [
              "<class 'statsmodels.iolib.table.SimpleTable'>"
            ]
          },
          "metadata": {},
          "execution_count": 150
        },
        {
          "output_type": "display_data",
          "data": {
            "image/png": "[encoded data removed]",
            "text/plain": [
              "<Figure size 720x432 with 1 Axes>"
            ]
          },
          "metadata": {
            "needs_background": "light"
          }
        }
      ]
    },
    {
      "cell_type": "markdown",
      "metadata": {
        "id": "jZMOTq3KPr6e"
      },
      "source": [
        "The Tukey Test shows that all the group pairs do not have a difference that is significant enough to reject the null hypothesis, which is: the two groups do not have significantly different means.\n",
        "\n",
        "The plot illustrates that the means are not significantly different because the confidence intervals of all the groups overlap one another."
      ]
    },
    {
      "cell_type": "markdown",
      "metadata": {
        "id": "ldUROvogNA3F"
      },
      "source": [
        "### Data Set 2"
      ]
    },
    {
      "cell_type": "code",
      "metadata": {
        "colab": {
          "base_uri": "https://localhost:8080/"
        },
        "id": "lFznV53DMpou",
        "outputId": "51f7a52c-6878-4f16-93fe-62259c9660ce"
      },
      "source": [
        "# Perform the ANOVA\n",
        "stats.f_oneway(asian2, black2, hispanic2, other2, white2)"
      ],
      "execution_count": null,
      "outputs": [
        {
          "output_type": "execute_result",
          "data": {
            "text/plain": [
              "F_onewayResult(statistic=10.164699828386366, pvalue=4.5613242113994585e-08)"
            ]
          },
          "metadata": {},
          "execution_count": 155
        }
      ]
    },
    {
      "cell_type": "markdown",
      "metadata": {
        "id": "aET-hIFOf2v2"
      },
      "source": [
        "This ANOVA test shows us that the means are statistically significant because the p-value is very small (much smaller than 0.05)."
      ]
    },
    {
      "cell_type": "code",
      "metadata": {
        "colab": {
          "base_uri": "https://localhost:8080/"
        },
        "id": "UA5d-VbImLpY",
        "outputId": "68878522-fae1-40f5-9cf2-2382785858b5"
      },
      "source": [
        "# Get all race pairs\n",
        "race_pairs2 = []\n",
        "\n",
        "for race1 in range(4):\n",
        "    for race2  in range(race1+1,5):\n",
        "        race_pairs2.append((races2[race1], races2[race2]))\n",
        "\n",
        "# Conduct t-test on each pair\n",
        "for race1, race2 in race_pairs2: \n",
        "    print(race1, race2)\n",
        "    print(stats.ttest_ind(voter_age_02[groups_02[race1]], \n",
        "                          voter_age_02[groups_02[race2]])) "
      ],
      "execution_count": null,
      "outputs": [
        {
          "output_type": "stream",
          "name": "stdout",
          "text": [
            "asian2 black2\n",
            "Ttest_indResult(statistic=0.838644690974798, pvalue=0.4027281369339345)\n",
            "asian2 hispanic2\n",
            "Ttest_indResult(statistic=-0.42594691924932293, pvalue=0.6704669004240726)\n",
            "asian2 other2\n",
            "Ttest_indResult(statistic=0.9795284739636, pvalue=0.3298877500095151)\n",
            "asian2 white2\n",
            "Ttest_indResult(statistic=-2.318108811252288, pvalue=0.020804701566400217)\n",
            "black2 hispanic2\n",
            "Ttest_indResult(statistic=-1.9527839210712925, pvalue=0.05156197171952594)\n",
            "black2 other2\n",
            "Ttest_indResult(statistic=0.28025754367057176, pvalue=0.7795770111117659)\n",
            "black2 white2\n",
            "Ttest_indResult(statistic=-5.379303881281835, pvalue=1.039421216662395e-07)\n",
            "hispanic2 other2\n",
            "Ttest_indResult(statistic=1.5853626170340225, pvalue=0.11396630528484335)\n",
            "hispanic2 white2\n",
            "Ttest_indResult(statistic=-3.5160312714115376, pvalue=0.0004641298649066684)\n",
            "other2 white2\n",
            "Ttest_indResult(statistic=-3.763809322077872, pvalue=0.00018490576317593065)\n"
          ]
        }
      ]
    },
    {
      "cell_type": "markdown",
      "metadata": {
        "id": "fJTyp_4hgI8g"
      },
      "source": [
        "We can run separate T-tests on each pair of races, and see that the p values are only statistically significant when the white group is part of the pair which implies that the white group is most likely causing the difference in the ANOVA test."
      ]
    },
    {
      "cell_type": "code",
      "metadata": {
        "colab": {
          "base_uri": "https://localhost:8080/",
          "height": 644
        },
        "id": "J_ZmxyczmSgg",
        "outputId": "b7858309-90ec-4f31-e47c-ddc267780898"
      },
      "source": [
        "from statsmodels.stats.multicomp import pairwise_tukeyhsd\n",
        "\n",
        "tukey = pairwise_tukeyhsd(endog=voter_age_02,     # Data\n",
        "                          groups=voter_race_02,   # Groups\n",
        "                          alpha=0.05)          # Significance level\n",
        "\n",
        "tukey.plot_simultaneous()    # Plot group confidence intervals\n",
        "plt.vlines(x=49.57,ymin=-0.5,ymax=4.5, color=\"red\")\n",
        "\n",
        "tukey.summary()              # See test summary"
      ],
      "execution_count": null,
      "outputs": [
        {
          "output_type": "execute_result",
          "data": {
            "text/html": [
              "<table class=\"simpletable\">\n",
              "<caption>Multiple Comparison of Means - Tukey HSD, FWER=0.05</caption>\n",
              "<tr>\n",
              "   <th>group1</th>    <th>group2</th>   <th>meandiff</th>  <th>p-adj</th>  <th>lower</th>   <th>upper</th> <th>reject</th>\n",
              "</tr>\n",
              "<tr>\n",
              "   <td>asian2</td>    <td>black2</td>    <td>-0.8032</td>   <td>0.9</td>  <td>-3.4423</td>  <td>1.836</td>  <td>False</td>\n",
              "</tr>\n",
              "<tr>\n",
              "   <td>asian2</td>   <td>hispanic2</td>  <td>0.4143</td>    <td>0.9</td>  <td>-2.1011</td> <td>2.9297</td>  <td>False</td>\n",
              "</tr>\n",
              "<tr>\n",
              "   <td>asian2</td>    <td>other2</td>    <td>-1.0645</td> <td>0.8852</td> <td>-4.2391</td>  <td>2.11</td>   <td>False</td>\n",
              "</tr>\n",
              "<tr>\n",
              "   <td>asian2</td>    <td>white2</td>    <td>1.9547</td>   <td>0.175</td> <td>-0.4575</td> <td>4.3668</td>  <td>False</td>\n",
              "</tr>\n",
              "<tr>\n",
              "   <td>black2</td>   <td>hispanic2</td>  <td>1.2175</td>  <td>0.2318</td> <td>-0.386</td>   <td>2.821</td>  <td>False</td>\n",
              "</tr>\n",
              "<tr>\n",
              "   <td>black2</td>    <td>other2</td>    <td>-0.2614</td>   <td>0.9</td>  <td>-2.7757</td>  <td>2.253</td>  <td>False</td>\n",
              "</tr>\n",
              "<tr>\n",
              "   <td>black2</td>    <td>white2</td>    <td>2.7579</td>   <td>0.001</td> <td>1.3217</td>   <td>4.194</td>  <td>True</td> \n",
              "</tr>\n",
              "<tr>\n",
              "  <td>hispanic2</td>  <td>other2</td>    <td>-1.4789</td> <td>0.4391</td> <td>-3.863</td>  <td>0.9053</td>  <td>False</td>\n",
              "</tr>\n",
              "<tr>\n",
              "  <td>hispanic2</td>  <td>white2</td>    <td>1.5404</td>   <td>0.004</td> <td>0.3468</td>   <td>2.734</td>  <td>True</td> \n",
              "</tr>\n",
              "<tr>\n",
              "   <td>other2</td>    <td>white2</td>    <td>3.0192</td>  <td>0.0028</td> <td>0.7443</td>  <td>5.2941</td>  <td>True</td> \n",
              "</tr>\n",
              "</table>"
            ],
            "text/plain": [
              "<class 'statsmodels.iolib.table.SimpleTable'>"
            ]
          },
          "metadata": {},
          "execution_count": 153
        },
        {
          "output_type": "display_data",
          "data": {
            "image/png": "[encoded data removed]",
            "text/plain": [
              "<Figure size 720x432 with 1 Axes>"
            ]
          },
          "metadata": {
            "needs_background": "light"
          }
        }
      ]
    },
    {
      "cell_type": "markdown",
      "metadata": {
        "id": "hTG2mOrdhMq1"
      },
      "source": [
        "The Tukey Test shows there is a significant difference between the means for the black group and white group, hispanic group and white group, and other and white group. The other group pairs do not have a difference that is significant enough to reject the null hypothesis, which is: the two groups do not have significantly different means.\n",
        "\n",
        "The plot shows each group's mean's confidence intervals. Since the white group has the most observations, so the confidence interval is less wide than the other groups.The asian group's line overlaps with the white group's line which illustrates that there is not a significant difference between the two groups' means. On the other hand, every other group's confidence interval does not overlap with the white group's because their group means are statistically different. This is just illustrating what we already learned from the one-way ANOVA and the Tukey test."
      ]
    },
    {
      "cell_type": "markdown",
      "metadata": {
        "id": "8VJjnhtuk_Sq"
      },
      "source": [
        "# Conclusions\n",
        "Using the one-way ANOVA test, T-test, and Tukey test, we determined that the first data set did not have statistically different means among groups, and that the second data set did have statistically different means for three different group pairs. In other words, we failed to reject the null hypothesis for Data Set 1, and successfully rejected the null hypothesis for Data Set 2.<br>\n",
        "\n",
        "All the tests provided some insight onto the difference between group means, but the Tukey Test was most helpful. The one-way ANOVA tells us if there is a significant difference among group means, but it does not tell us what group(s) is causing that difference. The t-test allows us to see which group(s) is causing the difference, but it is tedious and time-consuming to run a t-test on each separate pair of group means. The Tukey test automatically tests each seperate pair of group means using much less code, and the table even tells us explicitly whether we can reject the null hypothesis. <br>\n",
        "\n",
        "In general, the one-way ANOVA test is a good way to get an idea of the means of the data you are working with, but it is not always enough to reject the null hypothesis. T-tests are great for smaller sets of data; for example, two separate groups rather than five. However, the Tukey test is the best for these two sets of data because it provides specific, reliable information in a quick and easy manner."
      ]
    }
  ]
}